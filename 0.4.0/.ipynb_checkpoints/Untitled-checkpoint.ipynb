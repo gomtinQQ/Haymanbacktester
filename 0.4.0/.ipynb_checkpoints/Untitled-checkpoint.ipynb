{
 "cells": [
  {
   "cell_type": "code",
   "execution_count": 8,
   "metadata": {},
   "outputs": [
    {
     "name": "stdout",
     "output_type": "stream",
     "text": [
      "         date   open   high    low  close   volume\n",
      "0    20171016   4835   6276   4364   6276  4750683\n",
      "1    20171017   7288   8158   6989   8158  1029793\n",
      "2    20171018  10269  10597   9556  10597   338675\n",
      "3    20171019  12495  13750  10968  12808  3410349\n",
      "4    20171020  12081  13279  10312  10312  1502457\n",
      "..        ...    ...    ...    ...    ...      ...\n",
      "625  20200504   2690   2695   2630   2660    28470\n",
      "626  20200506   2660   2775   2660   2775    66280\n",
      "627  20200507   2890   2890   2740   2810    70688\n",
      "628  20200508   2810   2890   2800   2850    37595\n",
      "629  20200511   2870   2960   2795   2945    93604\n",
      "\n",
      "[630 rows x 6 columns]\n"
     ]
    }
   ],
   "source": [
    "import pandas as pd\n",
    "import sqlite3\n",
    "\n",
    "raw_database = sqlite3.connect('stock_price(day).db')\n",
    "\n",
    "c = raw_database.cursor()\n",
    "sql = \"SELECT * FROM A263810\"\n",
    "data = pd.read_sql(sql, con = raw_database)\n",
    "\n",
    "print(data)"
   ]
  },
  {
   "cell_type": "code",
   "execution_count": 14,
   "metadata": {},
   "outputs": [
    {
     "name": "stdout",
     "output_type": "stream",
     "text": [
      "         date   open   high    low  close   volume  MA_volume_10  MA_close_60  \\\n",
      "0    20171016   4835   6276   4364   6276  4750683           NaN          NaN   \n",
      "1    20171017   7288   8158   6989   8158  1029793           NaN          NaN   \n",
      "2    20171018  10269  10597   9556  10597   338675           NaN          NaN   \n",
      "3    20171019  12495  13750  10968  12808  3410349           NaN          NaN   \n",
      "4    20171020  12081  13279  10312  10312  1502457           NaN          NaN   \n",
      "..        ...    ...    ...    ...    ...      ...           ...          ...   \n",
      "625  20200504   2690   2695   2630   2660    28470       61162.5  2822.666667   \n",
      "626  20200506   2660   2775   2660   2775    66280       61860.3  2808.416667   \n",
      "627  20200507   2890   2890   2740   2810    70688       63419.8  2795.083333   \n",
      "628  20200508   2810   2890   2800   2850    37595       60300.8  2782.000000   \n",
      "629  20200511   2870   2960   2795   2945    93604       65989.6  2769.250000   \n",
      "\n",
      "     high_by_close  high_by_close_15  high_by_close_15_check  \n",
      "0             0.00             False                     NaN  \n",
      "1             0.00             False                     NaN  \n",
      "2             0.00             False                     NaN  \n",
      "3             7.35             False                     NaN  \n",
      "4            28.77              True                     NaN  \n",
      "..             ...               ...                     ...  \n",
      "625           1.32             False                     1.0  \n",
      "626           0.00             False                     1.0  \n",
      "627           2.85             False                     1.0  \n",
      "628           1.40             False                     1.0  \n",
      "629           0.51             False                     1.0  \n",
      "\n",
      "[630 rows x 11 columns]\n"
     ]
    }
   ],
   "source": [
    "import ta_lib\n",
    "\n",
    "temp_data = pd.DataFrame()\n",
    "\n",
    "stock_code = 'A233740'\n",
    "\n",
    "temp_data = ta_lib.sma(data, stock_code, 'volume', 10) ## MA_volume_10\n",
    "temp_data = ta_lib.sma(data, stock_code, 'close', 60) ## MA_close_60\n",
    "temp_data = ta_lib.compare_price(data, stock_code, 'high', 'close') ## 고가 대비 종가\n",
    "\n",
    "temp_data['high_by_close_15'] = temp_data['high_by_close'] > 15\n",
    "temp_data['high_by_close_15_check'] = temp_data.rolling(25)['high_by_close_15'].sum()\n",
    "\n",
    "temp_data.to_csv('example.csv')\n",
    "\n",
    "print(temp_data)\n"
   ]
  },
  {
   "cell_type": "code",
   "execution_count": null,
   "metadata": {},
   "outputs": [],
   "source": []
  },
  {
   "cell_type": "code",
   "execution_count": null,
   "metadata": {},
   "outputs": [],
   "source": []
  }
 ],
 "metadata": {
  "kernelspec": {
   "display_name": "Python 3",
   "language": "python",
   "name": "python3"
  },
  "language_info": {
   "codemirror_mode": {
    "name": "ipython",
    "version": 3
   },
   "file_extension": ".py",
   "mimetype": "text/x-python",
   "name": "python",
   "nbconvert_exporter": "python",
   "pygments_lexer": "ipython3",
   "version": "3.7.4"
  }
 },
 "nbformat": 4,
 "nbformat_minor": 2
}
